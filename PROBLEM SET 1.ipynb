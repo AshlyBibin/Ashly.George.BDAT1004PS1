{
 "cells": [
  {
   "cell_type": "markdown",
   "metadata": {},
   "source": [
    "# Q1\n",
    "What data type is each of the following?\n",
    "5\n",
    "5.0\n",
    "5 > 1\n",
    "'5'\n",
    "5 * 2\n",
    "'5' * 2\n",
    "'5' + '2'\n",
    "5 / 2\n",
    "5 % 2\n",
    "{5,2,1}\n",
    "5 == 3\n",
    "Pi (the number)"
   ]
  },
  {
   "cell_type": "code",
   "execution_count": 118,
   "metadata": {},
   "outputs": [
    {
     "name": "stdout",
     "output_type": "stream",
     "text": [
      "Data type of 5: <class 'int'>\n",
      "Data type of 5.0 : <class 'float'>\n",
      "Data type of 5 > 1: <class 'bool'>\n",
      "Data type of '5': <class 'str'>\n",
      "Data type of 5 * 2: <class 'int'>\n",
      "Data type of '5' * 2: <class 'str'>\n",
      "Data type of '5' * 2: <class 'str'>\n",
      "Data type of 5 / 2: <class 'float'>\n",
      "Data type of 5 % 2 : <class 'int'>\n",
      "Data type of {5,2,1} : <class 'set'>\n",
      "Data type of 5 == 3: <class 'bool'>\n",
      "Data type of Pi(The value of PI is 3.14159265) <class 'float'>\n"
     ]
    }
   ],
   "source": [
    "print(\"Data type of 5:\",type(5))\n",
    "print(\"Data type of 5.0 :\",type(5.0))\n",
    "print(\"Data type of 5 > 1:\",type(5 > 1))\n",
    "print(\"Data type of '5':\",type('5'))\n",
    "print(\"Data type of 5 * 2:\",type(5 * 2))\n",
    "print(\"Data type of '5' * 2:\",type('5' * 2))\n",
    "print(\"Data type of '5' * 2:\",type('5' * 2))\n",
    "print(\"Data type of 5 / 2:\",type(5 / 2))\n",
    "print(\"Data type of 5 % 2 :\",type(5 % 2))\n",
    "print(\"Data type of {5,2,1} :\",type({5,2,1}))\n",
    "print(\"Data type of 5 == 3:\",type(5 == 3))\n",
    "print(\"Data type of Pi(The value of PI is 3.14159265)\",type(3.14159265))"
   ]
  },
  {
   "cell_type": "markdown",
   "metadata": {},
   "source": [
    "# Q2\n",
    "Write (and evaluate) C# expressions that answer these questions:\n",
    "a. How many letters are there in 'Supercalifragilisticexpialidocious'?\n",
    "b. Does 'Supercalifragilisticexpialidocious' contain 'ice' as a substring?\n",
    "c. Which of the following words is the longest:\n",
    "Supercalifragilisticexpialidocious, Honorificabilitudinitatibus, or\n",
    "Bababadalgharaghtakamminarronnkonn?\n",
    "d. Which composer comes first in the dictionary: 'Berlioz', 'Borodin', 'Brian',\n",
    "'Bartok', 'Bellini', 'Buxtehude', 'Bernstein'. Which one comes last?"
   ]
  },
  {
   "cell_type": "code",
   "execution_count": null,
   "metadata": {},
   "outputs": [],
   "source": [
    "# Q2.(a).\n",
    "#Not able to run the C# code in jupyter notebook;code checked and compiled in C# IDE\n",
    "string word =\"Supercalifragilisticexpialidocious\";\n",
    "Console.WriteLine (\"The word Supercalifragilisticexpialidocious has {0} letters\",word.Length);\n",
    "\n",
    "# Answer\n",
    "\n",
    "# The word Supercalifragilisticexpialidocious has 34 letters"
   ]
  },
  {
   "cell_type": "code",
   "execution_count": null,
   "metadata": {},
   "outputs": [],
   "source": [
    "#Q2.(b).\n",
    "#Not able to run the C# code in jupyter notebook;code checked and compiled in C# IDE\n",
    "string mesasge =\"Supercalifragilisticexpialidocious\";\n",
    "if(mesasge.Contains(\"ice\"))\n",
    "    {\n",
    "    Console.WriteLine(\"{0} contains ice as a substring\",mesasge);  \n",
    "    }\n",
    "else\n",
    "    {\n",
    "    Console.WriteLine(\"ice is not a substring of {0}\",mesasge); \n",
    "    }\n",
    "    \n",
    "# Answer\n",
    "    \n",
    "# Supercalifragilisticexpialidocious contains ice as a substring"
   ]
  },
  {
   "cell_type": "code",
   "execution_count": null,
   "metadata": {},
   "outputs": [],
   "source": [
    "#Q2.(c).\n",
    "#Not able to run the C# code in jupyter notebook;code checked and compiled in C# IDE\n",
    "String word1 = \"Supercalifragilisticexpialidocious\";\n",
    "String word2 = \"Honorificabilitudinitatibus\";\n",
    "String word3 = \"Bababadalgharaghtakamminarronnkonn\";\n",
    "int word1_length = word1.Length;\n",
    "int word2_length = word2.Length;\n",
    "int word3_length = word3.Length;\n",
    "\n",
    "if (word1_length > word2_length && word1_length > word3_length)\n",
    "{\n",
    "    Console.WriteLine(\"Longest word is: {0} \",word1);\n",
    "}\n",
    "else if (word2_length > word1_length && word2_length > word3_length)\n",
    "{\n",
    "    Console.WriteLine(\"Longest word is: {0} .\", word2);\n",
    "}\n",
    "else if (word3_length > word1_length && word3_length > word2_length)\n",
    "{\n",
    "    Console.WriteLine(\"Longest word is: {0} \", word3);\n",
    "}\n",
    "else if ((word1_length == word2_length) && (word1_length > word3_length) && (word2_length > word3_length))\n",
    "{\n",
    "    Console.WriteLine(\"Longest words are: {0} and {1}\", word1,word2);\n",
    "}\n",
    "else if ((word2_length == word3_length) && (word2_length > word1_length) && (word3_length > word1_length))\n",
    "{\n",
    "    Console.WriteLine(\"Longest words are: {0} and {1}\", word2, word3);\n",
    "}\n",
    "else #actual condition in else((word1_length == word3_length) && (word1_length > word2_length) && (word3_length > word2_length))\n",
    "{\n",
    "    Console.WriteLine(\"Longest words are: {0} and {1}\", word1, word3);\n",
    "}\n",
    "\n",
    "\n",
    "\n",
    "#Answer:\n",
    "\n",
    "# Longest words are: Supercalifragilisticexpialidocious and Bababadalgharaghtakamminarronnkonn"
   ]
  },
  {
   "cell_type": "code",
   "execution_count": null,
   "metadata": {},
   "outputs": [],
   "source": [
    "#Q2.(d).\n",
    "#Not able to run the C# code in jupyter notebook;code checked and compiled in C# IDE\n",
    "string[] arr = new string[] {\"Berlioz\", \"Borodin\", \"Brian\",\"Bartok\", \"Bellini\", \"Buxtehude\", \"Bernstein\"};\n",
    "Array.Sort(arr); \n",
    "Console.WriteLine(\"{0} is the first composer in the Dictionary\",arr[0]);\n",
    "Array.Reverse(arr);\n",
    "Console.WriteLine(\"{0} is the last composer in the Dictionary\",arr[0]);\n",
    "\n",
    "\n",
    "#Answer:\n",
    "\n",
    "#  Bartok is the first composer in the Dictionary  \n",
    "#  Buxtehude is the last composer in the Dictionary"
   ]
  },
  {
   "cell_type": "markdown",
   "metadata": {},
   "source": [
    "# Q3\n",
    "Implement function triangleArea(a,b,c) that takes as input the lengths of the 3\n",
    "sides of a triangle and returns the area of the triangle. By Heron's formula, the area\n",
    "of a triangle with side lengths a, b, and c is s(s − a)(s −b)(s −c), where\n",
    "s = (a + b + c)/2."
   ]
  },
  {
   "cell_type": "code",
   "execution_count": null,
   "metadata": {},
   "outputs": [],
   "source": [
    "#Not able to run the C# code in jupyter notebook;code checked and compiled in C# IDE\n",
    "using System;\n",
    "\n",
    "public class AreaofTriangle\n",
    "{       \n",
    "       public static void Main(string[] args)\n",
    "        {\n",
    "            double a; double b; double c; double s; double area;\n",
    "            Console.WriteLine(\"Enter the length of first side:\");\n",
    "            a = Convert.ToDouble(Console.ReadLine());\n",
    "            Console.WriteLine(\"Enter the length of second side:\");\n",
    "            b = Convert.ToDouble(Console.ReadLine());\n",
    "            Console.WriteLine(\"Enter the length of third side:\");\n",
    "            c = Convert.ToDouble(Console.ReadLine());\n",
    "            s = 0.5 * (a + b + c);\n",
    "            area = Math.Sqrt(s * (s - a) * (s - b) * (s - c));\n",
    "            Console.WriteLine(\"Area of the traingle with sides {0}, {1} and {2} is {3}\",a,b,c,area);        \n",
    "        }\n",
    "}\n",
    "\n",
    "\n",
    "#Answer:\n",
    "\n",
    "# Enter the length of first side:\n",
    "# 25\n",
    "# Enter the length of second side:\n",
    "# 35\n",
    "# Enter the length of third side:\n",
    "# 45\n",
    "# Area of the traingle with sides 25, 35 and 45 is 435.307003734146"
   ]
  },
  {
   "cell_type": "markdown",
   "metadata": {},
   "source": [
    "# Q4\n",
    "Write a program in C# Sharp to separate odd and even integers in separate arrays.\n",
    "Go to the editor\n",
    "Test Data :\n",
    "Input the number of elements to be stored in the array :5\n",
    "Input 5 elements in the array :\n",
    "element - 0 : 25\n",
    "element - 1 : 47\n",
    "element - 2 : 42\n",
    "element - 3 : 56\n",
    "element - 4 : 32"
   ]
  },
  {
   "cell_type": "code",
   "execution_count": null,
   "metadata": {},
   "outputs": [],
   "source": [
    "#Not able to run the C# code in jupyter notebook;code checked and compiled in C# IDE\n",
    "using System;\n",
    "public class OddorEven\n",
    "{\n",
    "public static void Main()\n",
    "  {\n",
    "        int[] elementlist = new int[5];\n",
    "        elementlist[0] = 25;\n",
    "        elementlist[1] = 47;\n",
    "        elementlist[2] = 42;\n",
    "        elementlist[3] = 56;\n",
    "        elementlist[4] = 32;\n",
    "        Console.WriteLine(\"The even elements in the array are: \");\n",
    "        for (int i = 0; i < elementlist.Length; i++)\n",
    "        {\n",
    "             if (elementlist[i] % 2 == 0)\n",
    "             {\n",
    "                 Console.WriteLine(elementlist[i]);\n",
    "             } \n",
    "        }\n",
    "       Console.WriteLine(\"The odd elements in the array are: \");\n",
    "       for (int i = 0; i < elementlist.Length; i++)\n",
    "       {\n",
    "            if (elementlist[i] % 2 != 0)\n",
    "            {\n",
    "                 Console.WriteLine(elementlist[i]);\n",
    "            }\n",
    "        }\n",
    "    }\n",
    "}\n",
    "\n",
    "\n",
    "# Answer\n",
    "\n",
    "# The even elements in the array are: \n",
    "# 42\n",
    "# 56\n",
    "# 32\n",
    "# The odd elements in the array are: \n",
    "# 25\n",
    "# 47"
   ]
  },
  {
   "cell_type": "markdown",
   "metadata": {},
   "source": [
    "# Q5\n",
    "a. Write a function inside(x,y,x1,y1,x2,y2) that returns True or False\n",
    "dependingonwhetherthepoint(x,y)liesintherectanglewithlowerleft\n",
    "corner (x1,y1) and upper right corner (x2,y2).\n",
    "b. Use function inside()from part a. to write an expression that tests whether\n",
    "the point (1,1) lies in both of the following rectangles: one with lower left\n",
    "corner (0.3, 0.5) and upper right corner (1.1, 0.7) and the other with lower\n",
    "left corner (0.5, 0.2) and upper right corner (1.1, 2)."
   ]
  },
  {
   "cell_type": "code",
   "execution_count": null,
   "metadata": {},
   "outputs": [],
   "source": [
    "#Q5.(a)\n",
    "#Not able to run the C# code in jupyter notebook;code checked and compiled in C# IDE\n",
    "using System;\n",
    "namespace fninout\n",
    "{\n",
    "   public class myFunction\n",
    "    {\n",
    "        public void Inside(int x1, int x2, int x, int y1, int y2, int y)\n",
    "        {\n",
    "            if (x > x1 && x < x2 && y > y1 && y < y2)\n",
    "            {\n",
    "                Console.WriteLine(\"inside({0},{1},0,0,2,3)\", x, y);\n",
    "                Console.WriteLine(\"True\");\n",
    "            }\n",
    "            else\n",
    "            {\n",
    "                Console.WriteLine(\"inside({0},{1},0,0,2,3)\", x, y);\n",
    "                Console.WriteLine(\"False\");\n",
    "            }\n",
    "        }\n",
    "        public static void Main()\n",
    "        {\n",
    "            int x, y,x1, x2, y1, y2 ;\n",
    "            Console.WriteLine(\"Enter the value of x：\");\n",
    "            x = Convert.ToInt32(Console.ReadLine());\n",
    "            Console.WriteLine(\"Enter the value of y\");\n",
    "            y = Convert.ToInt32(Console.ReadLine());\n",
    "            Console.WriteLine(\"Enter the value of x1：\");\n",
    "            x1 = Convert.ToInt32(Console.ReadLine());\n",
    "            Console.WriteLine(\"Enter the value of y1：\");\n",
    "            y1 = Convert.ToInt32(Console.ReadLine());\n",
    "            Console.WriteLine(\"Enter the value of x2：\");\n",
    "            x2 = Convert.ToInt32(Console.ReadLine());\n",
    "            Console.WriteLine(\"Enter the value of y2\");\n",
    "            y2 = Convert.ToInt32(Console.ReadLine());        \n",
    "\n",
    "            myFunction program = new myFunction();\n",
    "            program.Inside(x1, x2, x, y1, y2, y);\n",
    "        }\n",
    "    }\n",
    "}\n",
    "\n",
    "\n",
    "# Answer\n",
    "\n",
    "# Enter the value of x：\n",
    "# 20\n",
    "# Enter the value of y\n",
    "# 12\n",
    "# Enter the value of x1：\n",
    "# 02\n",
    "# Enter the value of y1：\n",
    "# 23\n",
    "# Enter the value of x2：\n",
    "# 11\n",
    "# Enter the value of y2\n",
    "# 24\n",
    "# inside(20,12,0,0,2,3)\n",
    "# False"
   ]
  },
  {
   "cell_type": "code",
   "execution_count": null,
   "metadata": {},
   "outputs": [],
   "source": [
    "#Q5.(b)\n",
    "#Not able to run the C# code in jupyter notebook;code checked and compiled in C# IDE\n",
    "using System;\n",
    "namespace fninout\n",
    "{\n",
    "   public class myFunction\n",
    "    {\n",
    "        public void Inside(double x1, double x2, double x, double y1, double y2, double y)\n",
    "        \n",
    "        {\n",
    "            if (x > x1 && x < x2 && y > y1 && y < y2)\n",
    "            {\n",
    "                Console.WriteLine(\"inside({0},{1},0,0,2,3)\", x, y);\n",
    "                Console.WriteLine(\"True\");\n",
    "            }\n",
    "            else\n",
    "            {\n",
    "                Console.WriteLine(\"inside({0},{1},0,0,2,3)\", x, y);\n",
    "                Console.WriteLine(\"False\");\n",
    "            }\n",
    "        }\n",
    "        public static void Main()\n",
    "        {\n",
    "            double x, y,x1, x2, y1, y2 ;\n",
    "            Console.WriteLine(\"Enter the value of x：\");\n",
    "            x = Convert.ToDouble(Console.ReadLine());\n",
    "            Console.WriteLine(\"Enter the value of y\");\n",
    "            y = Convert.ToDouble(Console.ReadLine());\n",
    "            Console.WriteLine(\"Enter the value of x1：\");\n",
    "            x1 = Convert.ToDouble(Console.ReadLine());\n",
    "            Console.WriteLine(\"Enter the value of y1：\");\n",
    "            y1 = Convert.ToDouble(Console.ReadLine());\n",
    "            Console.WriteLine(\"Enter the value of x2：\");\n",
    "            x2 = Convert.ToDouble(Console.ReadLine());\n",
    "            Console.WriteLine(\"Enter the value of y2\");\n",
    "            y2 = Convert.ToDouble(Console.ReadLine());\n",
    "\n",
    "            myFunction program = new myFunction();\n",
    "            program.Inside(x1, x2, x, y1, y2, y);\n",
    "        }\n",
    "    }\n",
    "}\n",
    "\n",
    "#Answer\n",
    "\n",
    "# Enter the value of x：\n",
    "# 1\n",
    "# Enter the value of y\n",
    "# 1\n",
    "# Enter the value of x1：\n",
    "# 0.3\n",
    "# Enter the value of y1：\n",
    "# 0.5\n",
    "# Enter the value of x2：\n",
    "# 1.1\n",
    "# Enter the value of y2\n",
    "# 0.7\n",
    "# inside(1,1,0,0,2,3)\n",
    "# False\n",
    "\n",
    "\n",
    "\n",
    "\n",
    "# Enter the value of x：\n",
    "# 1\n",
    "# Enter the value of y\n",
    "# 1\n",
    "# Enter the value of x1：\n",
    "# 0.5\n",
    "# Enter the value of y1：\n",
    "# 0.2\n",
    "# Enter the value of x2：\n",
    "# 1.1\n",
    "# Enter the value of y2\n",
    "# 2\n",
    "# inside(1,1,0,0,2,3)\n",
    "# True\n",
    "\n",
    "\n",
    "\n",
    "# So the point (1,1) doesn't lie in both of the rectangles."
   ]
  },
  {
   "cell_type": "markdown",
   "metadata": {},
   "source": [
    "# Q6 \n",
    "You can turn a word into pig-Latin using the following two rules(simplified):\n",
    "• If the word starts with a consonant, move that letter to the end and append\n",
    "'ay'. For example, 'happy' becomes 'appyhay' and 'pencil' becomes 'encilpay'.\n",
    "• If the word starts with a vowel, simply append 'way' to the end of the word.\n",
    "For example, 'enter' becomes 'enterway' and 'other' becomes 'otherway' . For\n",
    "our purposes, there are 5 vowels: a, e, i, o, u (so we count y as a consonant).\n",
    "Write a function pig() that takes a word (i.e., a string) as input and returns its pigLatin form. Your function should still work if the input word contains upper case\n",
    "characters. Your output should always be lower case however."
   ]
  },
  {
   "cell_type": "code",
   "execution_count": 90,
   "metadata": {},
   "outputs": [
    {
     "name": "stdout",
     "output_type": "stream",
     "text": [
      "Enter the word to turn into pig-Latin : hi\n",
      "Pig-Latin of hi is : ihay\n"
     ]
    }
   ],
   "source": [
    "#pig('sky') 'kysay'|| pig('adventure') 'adventureway'\n",
    "piginput=input(\"Enter the word to turn into pig-Latin : \") #Enter the input word\n",
    "vowellist = ['a','e','i','o','u'] #the list of vowels\n",
    "\n",
    "def pigLatinfn(piginput) :\n",
    "    pigLowercase = piginput.lower()\n",
    "    pigFirstletter = pigLowercase[0]\n",
    "\n",
    "    if pigFirstletter in vowellist :  #firstletter of word is vowel\n",
    "        piginput = pigLowercase+'way'\n",
    "        return piginput \n",
    "    else :\n",
    "        piginput = pigLowercase[1:]+pigLowercase[0]+'ay' #firstletter of word is consonant\n",
    "        return piginput\n",
    "print('Pig-Latin of ' + piginput +' is : ' + pigLatinfn(piginput))   \n"
   ]
  },
  {
   "cell_type": "markdown",
   "metadata": {},
   "source": [
    "# Q7\n",
    "File bloodtype1.txt records blood-types of patients (A, B, AB, O or OO) at a clinic.\n",
    "Write a function bldcount() that reads the file with name name and reports (i.e.,\n",
    "prints) how many patients there are in each bloodtype."
   ]
  },
  {
   "cell_type": "code",
   "execution_count": 110,
   "metadata": {},
   "outputs": [
    {
     "name": "stdout",
     "output_type": "stream",
     "text": [
      "There are 15 patients with bloodgroup A ,1 patient with  bloodgroup B ,13 patients with bloodgroup AB , 15 patients with bloodgroup O and 0 patients with bloodgroup OO\n"
     ]
    }
   ],
   "source": [
    "bloodgroups=\"\"\n",
    "with open(\"bloodtype1.txt\",'r') as f:\n",
    "    bloodgroups = f.readline().split()\n",
    "A=0\n",
    "B=0\n",
    "AB=0\n",
    "O=0\n",
    "OO=0\n",
    "count = 0\n",
    "for btyp in bloodgroups:\n",
    "    if btyp == 'A':\n",
    "        A+=1\n",
    "    elif btyp =='B':\n",
    "       B+=1\n",
    "    elif btyp =='AB':\n",
    "       AB+=1\n",
    "    elif btyp =='O':\n",
    "       O+=1\n",
    "    elif btyp =='OO':\n",
    "       OO+=1   \n",
    "    else :\n",
    "        count +=1\n",
    "\n",
    "print('There are ' + str(A) + ' patients with bloodgroup A ,'  + str(B) + ' patient with  bloodgroup B ,'  + str(AB) + ' patients with bloodgroup AB , ' + str(O) +' patients with bloodgroup O and '+str(OO) +' patients with bloodgroup OO')"
   ]
  },
  {
   "cell_type": "markdown",
   "metadata": {},
   "source": [
    "# Q8\n",
    "Write a function curconv() that takes as input:\n",
    "(a). a currency represented using a string (e.g., 'JPY' for the Japanese Yen or 'EUR' for the Euro)\n",
    "(b). an amount and then converts and returns the amount in US dollars."
   ]
  },
  {
   "cell_type": "code",
   "execution_count": 116,
   "metadata": {},
   "outputs": [
    {
     "name": "stdout",
     "output_type": "stream",
     "text": [
      "122.96544\n"
     ]
    }
   ],
   "source": [
    "#Q8.(a)\n",
    "def curconv(currency,amount):\n",
    "    inputfile = open(\"currencies.txt\", \"r\")\n",
    "    details = inputfile.readlines()\n",
    "    inputfile.close()\n",
    "    for inputfile in details :\n",
    "        group = inputfile.split()\n",
    "        if currency == group[0]:\n",
    "            currency = float(group[1])\n",
    "            valueconverted = amount * currency\n",
    "        \n",
    "    print(valueconverted)   \n",
    "        \n",
    "curconv('EUR',100)"
   ]
  },
  {
   "cell_type": "code",
   "execution_count": 115,
   "metadata": {},
   "outputs": [
    {
     "name": "stdout",
     "output_type": "stream",
     "text": [
      "1.241401\n"
     ]
    }
   ],
   "source": [
    "#Q8.(b)\n",
    "def curconv(currency,amount):\n",
    "    inputfile = open(\"currencies.txt\", \"r\")\n",
    "    details = inputfile.readlines()\n",
    "    inputfile.close()\n",
    "    for inputfile in details :\n",
    "        group = inputfile.split()\n",
    "        if currency == group[0]:\n",
    "            currency = float(group[1])\n",
    "            valueconverted = amount * currency\n",
    "        \n",
    "    print(valueconverted)    \n",
    "    \n",
    "curconv('JPY',100)"
   ]
  },
  {
   "cell_type": "markdown",
   "metadata": {},
   "source": [
    "# Q9\n",
    "a.Trying to add incompatible variables,as in adding 6 + ‘a’.\n",
    "b.Referring to the 12th item of a list that has only 10 items.\n",
    "c.Using a value that is out of range for a function’s input,such as calling math.sqrt(-1.0).\n",
    "d.Using an undeclared variable,such as print(x) when x has not been defined.\n",
    "e.Trying to open a file that does not exist,such as mistyping the file name or looking in the wrong directory."
   ]
  },
  {
   "cell_type": "code",
   "execution_count": 49,
   "metadata": {},
   "outputs": [
    {
     "ename": "TypeError",
     "evalue": "unsupported operand type(s) for +: 'int' and 'str'",
     "output_type": "error",
     "traceback": [
      "\u001b[1;31m---------------------------------------------------------------------------\u001b[0m",
      "\u001b[1;31mTypeError\u001b[0m                                 Traceback (most recent call last)",
      "\u001b[1;32m<ipython-input-49-e52656e73b14>\u001b[0m in \u001b[0;36m<module>\u001b[1;34m\u001b[0m\n\u001b[0;32m      1\u001b[0m \u001b[1;31m#Trying to add incompatible variables, add 6 + ‘a’\u001b[0m\u001b[1;33m\u001b[0m\u001b[1;33m\u001b[0m\u001b[1;33m\u001b[0m\u001b[0m\n\u001b[0;32m      2\u001b[0m \u001b[1;33m\u001b[0m\u001b[0m\n\u001b[1;32m----> 3\u001b[1;33m \u001b[0mResult\u001b[0m\u001b[1;33m=\u001b[0m\u001b[1;33m(\u001b[0m\u001b[1;36m6\u001b[0m \u001b[1;33m+\u001b[0m \u001b[1;34m\"a\"\u001b[0m\u001b[1;33m)\u001b[0m\u001b[1;33m\u001b[0m\u001b[1;33m\u001b[0m\u001b[0m\n\u001b[0m\u001b[0;32m      4\u001b[0m \u001b[0mprint\u001b[0m\u001b[1;33m(\u001b[0m\u001b[1;34m'Resultant of addition of incompatible variables is:'\u001b[0m\u001b[1;33m)\u001b[0m\u001b[1;33m\u001b[0m\u001b[1;33m\u001b[0m\u001b[0m\n\u001b[0;32m      5\u001b[0m \u001b[0mprint\u001b[0m\u001b[1;33m(\u001b[0m\u001b[0mResult\u001b[0m\u001b[1;33m)\u001b[0m\u001b[1;33m\u001b[0m\u001b[1;33m\u001b[0m\u001b[0m\n",
      "\u001b[1;31mTypeError\u001b[0m: unsupported operand type(s) for +: 'int' and 'str'"
     ]
    }
   ],
   "source": [
    "#Trying to add incompatible variables, add 6 + ‘a’\n",
    "\n",
    "Result=(6 + \"a\")\n",
    "print('Resultant of addition of incompatible variables is:')\n",
    "print(Result)"
   ]
  },
  {
   "cell_type": "code",
   "execution_count": 62,
   "metadata": {},
   "outputs": [
    {
     "name": "stdout",
     "output_type": "stream",
     "text": [
      "Referring to the 12th item of a list that has only 10 items:\n"
     ]
    },
    {
     "ename": "IndexError",
     "evalue": "list index out of range",
     "output_type": "error",
     "traceback": [
      "\u001b[1;31m---------------------------------------------------------------------------\u001b[0m",
      "\u001b[1;31mIndexError\u001b[0m                                Traceback (most recent call last)",
      "\u001b[1;32m<ipython-input-62-2b08c39a8003>\u001b[0m in \u001b[0;36m<module>\u001b[1;34m\u001b[0m\n\u001b[0;32m      3\u001b[0m \u001b[0mLetters\u001b[0m\u001b[1;33m=\u001b[0m\u001b[1;33m[\u001b[0m\u001b[1;34m'q'\u001b[0m\u001b[1;33m,\u001b[0m\u001b[1;34m'l'\u001b[0m\u001b[1;33m,\u001b[0m\u001b[1;34m'a'\u001b[0m\u001b[1;33m,\u001b[0m\u001b[1;34m'p'\u001b[0m\u001b[1;33m,\u001b[0m\u001b[1;34m'm'\u001b[0m\u001b[1;33m,\u001b[0m\u001b[1;34m'b'\u001b[0m\u001b[1;33m,\u001b[0m\u001b[1;34m'r'\u001b[0m\u001b[1;33m,\u001b[0m\u001b[1;34m'n'\u001b[0m\u001b[1;33m,\u001b[0m\u001b[1;34m'c'\u001b[0m\u001b[1;33m,\u001b[0m\u001b[1;34m'i'\u001b[0m\u001b[1;33m]\u001b[0m\u001b[1;33m\u001b[0m\u001b[1;33m\u001b[0m\u001b[0m\n\u001b[0;32m      4\u001b[0m \u001b[0mprint\u001b[0m\u001b[1;33m(\u001b[0m\u001b[1;34m'Referring to the 12th item of a list that has only 10 items:'\u001b[0m\u001b[1;33m)\u001b[0m\u001b[1;33m\u001b[0m\u001b[1;33m\u001b[0m\u001b[0m\n\u001b[1;32m----> 5\u001b[1;33m \u001b[0mprint\u001b[0m\u001b[1;33m(\u001b[0m\u001b[0mLetters\u001b[0m\u001b[1;33m[\u001b[0m\u001b[1;36m11\u001b[0m\u001b[1;33m]\u001b[0m\u001b[1;33m)\u001b[0m\u001b[1;33m\u001b[0m\u001b[1;33m\u001b[0m\u001b[0m\n\u001b[0m",
      "\u001b[1;31mIndexError\u001b[0m: list index out of range"
     ]
    }
   ],
   "source": [
    "#Referring to the 12th item of a list that has only 10 items\n",
    "\n",
    "Letters=['q','l','a','p','m','b','r','n','c','i']\n",
    "print('Referring to the 12th item of a list that has only 10 items:')\n",
    "print(Letters[11])"
   ]
  },
  {
   "cell_type": "code",
   "execution_count": 60,
   "metadata": {},
   "outputs": [
    {
     "name": "stdout",
     "output_type": "stream",
     "text": [
      "Using a value that is out of range for a function input,such as calling math.sqrt(-1.0)\n"
     ]
    },
    {
     "ename": "ValueError",
     "evalue": "math domain error",
     "output_type": "error",
     "traceback": [
      "\u001b[1;31m---------------------------------------------------------------------------\u001b[0m",
      "\u001b[1;31mValueError\u001b[0m                                Traceback (most recent call last)",
      "\u001b[1;32m<ipython-input-60-312e2443a6b8>\u001b[0m in \u001b[0;36m<module>\u001b[1;34m\u001b[0m\n\u001b[0;32m      3\u001b[0m \u001b[1;32mimport\u001b[0m \u001b[0mmath\u001b[0m\u001b[1;33m\u001b[0m\u001b[1;33m\u001b[0m\u001b[0m\n\u001b[0;32m      4\u001b[0m \u001b[0mprint\u001b[0m\u001b[1;33m(\u001b[0m\u001b[1;34m'Using a value that is out of range for a function input,such as calling math.sqrt(-1.0)'\u001b[0m\u001b[1;33m)\u001b[0m\u001b[1;33m\u001b[0m\u001b[1;33m\u001b[0m\u001b[0m\n\u001b[1;32m----> 5\u001b[1;33m \u001b[0mprint\u001b[0m\u001b[1;33m(\u001b[0m\u001b[0mmath\u001b[0m\u001b[1;33m.\u001b[0m\u001b[0msqrt\u001b[0m\u001b[1;33m(\u001b[0m\u001b[1;33m-\u001b[0m\u001b[1;36m1.0\u001b[0m\u001b[1;33m)\u001b[0m\u001b[1;33m)\u001b[0m\u001b[1;33m\u001b[0m\u001b[1;33m\u001b[0m\u001b[0m\n\u001b[0m\u001b[0;32m      6\u001b[0m \u001b[1;33m\u001b[0m\u001b[0m\n",
      "\u001b[1;31mValueError\u001b[0m: math domain error"
     ]
    }
   ],
   "source": [
    "#Using a value that is out of range for a function's input,such as calling math.sqrt(-1.0)\n",
    "\n",
    "import math\n",
    "print('Using a value that is out of range for a function input,such as calling math.sqrt(-1.0)')\n",
    "print(math.sqrt(-1.0))\n",
    "      "
   ]
  },
  {
   "cell_type": "code",
   "execution_count": 61,
   "metadata": {},
   "outputs": [
    {
     "name": "stdout",
     "output_type": "stream",
     "text": [
      "using an undeclared variable,such as print(x) when x has not been defined\n"
     ]
    },
    {
     "ename": "NameError",
     "evalue": "name 'x' is not defined",
     "output_type": "error",
     "traceback": [
      "\u001b[1;31m---------------------------------------------------------------------------\u001b[0m",
      "\u001b[1;31mNameError\u001b[0m                                 Traceback (most recent call last)",
      "\u001b[1;32m<ipython-input-61-27b0579f8a62>\u001b[0m in \u001b[0;36m<module>\u001b[1;34m\u001b[0m\n\u001b[0;32m      1\u001b[0m \u001b[1;31m#Using an undeclared variable,such as print(x) when x has not been defined\u001b[0m\u001b[1;33m\u001b[0m\u001b[1;33m\u001b[0m\u001b[1;33m\u001b[0m\u001b[0m\n\u001b[0;32m      2\u001b[0m \u001b[0mprint\u001b[0m\u001b[1;33m(\u001b[0m\u001b[1;34m'using an undeclared variable,such as print(x) when x has not been defined'\u001b[0m\u001b[1;33m)\u001b[0m\u001b[1;33m\u001b[0m\u001b[1;33m\u001b[0m\u001b[0m\n\u001b[1;32m----> 3\u001b[1;33m \u001b[0mprint\u001b[0m\u001b[1;33m(\u001b[0m\u001b[0mx\u001b[0m\u001b[1;33m)\u001b[0m\u001b[1;33m\u001b[0m\u001b[1;33m\u001b[0m\u001b[0m\n\u001b[0m",
      "\u001b[1;31mNameError\u001b[0m: name 'x' is not defined"
     ]
    }
   ],
   "source": [
    "#Using an undeclared variable,such as print(x) when x has not been defined\n",
    "print('using an undeclared variable,such as print(x) when x has not been defined')\n",
    "print(x)"
   ]
  },
  {
   "cell_type": "code",
   "execution_count": 64,
   "metadata": {},
   "outputs": [
    {
     "name": "stdout",
     "output_type": "stream",
     "text": [
      "trying to open a file that does not exist,such as mistyping the file name or looking in the wrong directory.\n"
     ]
    },
    {
     "ename": "FileNotFoundError",
     "evalue": "[Errno 2] No such file or directory: 'documents.txt'",
     "output_type": "error",
     "traceback": [
      "\u001b[1;31m---------------------------------------------------------------------------\u001b[0m",
      "\u001b[1;31mFileNotFoundError\u001b[0m                         Traceback (most recent call last)",
      "\u001b[1;32m<ipython-input-64-b5b29a18141d>\u001b[0m in \u001b[0;36m<module>\u001b[1;34m\u001b[0m\n\u001b[0;32m      2\u001b[0m \u001b[0mprint\u001b[0m\u001b[1;33m(\u001b[0m\u001b[1;34m'trying to open a file that does not exist,such as mistyping the file name or looking in the wrong directory.'\u001b[0m\u001b[1;33m)\u001b[0m\u001b[1;33m\u001b[0m\u001b[1;33m\u001b[0m\u001b[0m\n\u001b[0;32m      3\u001b[0m \u001b[1;31m#documentfile=open('documents.txt\")\u001b[0m\u001b[1;33m\u001b[0m\u001b[1;33m\u001b[0m\u001b[1;33m\u001b[0m\u001b[0m\n\u001b[1;32m----> 4\u001b[1;33m \u001b[0mopen\u001b[0m\u001b[1;33m(\u001b[0m\u001b[1;34m\"documents.txt\"\u001b[0m\u001b[1;33m)\u001b[0m\u001b[1;33m\u001b[0m\u001b[1;33m\u001b[0m\u001b[0m\n\u001b[0m",
      "\u001b[1;31mFileNotFoundError\u001b[0m: [Errno 2] No such file or directory: 'documents.txt'"
     ]
    }
   ],
   "source": [
    "#Trying to open a file that does not exist,such as mistyping the file name or looking in the wrong directory.\n",
    "print('trying to open a file that does not exist,such as mistyping the file name or looking in the wrong directory.')\n",
    "#documentfile=open('documents.txt\")\n",
    "open(\"documents.txt\")"
   ]
  },
  {
   "cell_type": "markdown",
   "metadata": {},
   "source": [
    "# Q10\n",
    "Encryption is the process of hiding the meaning of a text by substituting letters in the message with other letters, according to some system. If the process is successful,no one but the intended recipient can understand the encrypted message. Cryptanalysis refers to attempts to undo the encryption, even if some details of the encryption are unknown (for example, if an  encrypted message has been intercepted).The first step of cryptanalysis is often to build up a table of letter frequencies in the encrypted text.Assume that the string letters is already defined as'abcdefghijklmnopqrstuvwxyz'. Write a function called frequencies() that takes a string as its only parameter, and returns a list of integers, showing the number of times each character appears in the text. Your function may ignore any characters that are not in letters."
   ]
  },
  {
   "cell_type": "code",
   "execution_count": 117,
   "metadata": {},
   "outputs": [
    {
     "name": "stdout",
     "output_type": "stream",
     "text": [
      "['1', '1', '1', '3', '5', '1', '1', '2', '1', '0', '1', '0', '1', '2', '4', '0', '1', '2', '0', '2', '1', '0', '1', '1', '0', '0']\n",
      "['1', '0', '0', '0', '1', '0', '0', '0', '0', '0', '0', '1', '0', '0', '0', '2', '0', '0', '0', '0', '0', '0', '0', '0', '0', '0']\n"
     ]
    }
   ],
   "source": [
    "def frequencies(word):\n",
    "    wordfrequency = []\n",
    "    letters = 'abcdefghijklmnopqrstuvwxyz'\n",
    "    for each in letters:\n",
    "        letter_total = (word.count(each))\n",
    "        wordfrequency +=  str(letter_total)\n",
    "    print(wordfrequency)     \n",
    "frequencies('The quick red fox got bored and went home.')\n",
    "frequencies('apple')"
   ]
  }
 ],
 "metadata": {
  "kernelspec": {
   "display_name": "Python 3",
   "language": "python",
   "name": "python3"
  },
  "language_info": {
   "codemirror_mode": {
    "name": "ipython",
    "version": 3
   },
   "file_extension": ".py",
   "mimetype": "text/x-python",
   "name": "python",
   "nbconvert_exporter": "python",
   "pygments_lexer": "ipython3",
   "version": "3.7.4"
  }
 },
 "nbformat": 4,
 "nbformat_minor": 2
}
